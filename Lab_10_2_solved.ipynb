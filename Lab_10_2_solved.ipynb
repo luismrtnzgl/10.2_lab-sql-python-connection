{
 "cells": [
  {
   "cell_type": "code",
   "execution_count": 38,
   "metadata": {},
   "outputs": [],
   "source": [
    "from sqlalchemy import create_engine\n",
    "import pandas as pd\n",
    "\n",
    "# Crear el motor de conexión a la base de datos Sakila\n",
    "def connect_to_sakila(user, password, host, database):\n",
    "    connection_string = f\"mysql+pymysql://{user}:{password}@{host}/{database}\"\n",
    "    engine = create_engine(connection_string)  \n",
    "    return engine"
   ]
  },
  {
   "cell_type": "code",
   "execution_count": 39,
   "metadata": {},
   "outputs": [],
   "source": [
    "def rentals_month(engine, month, year):\n",
    "    query = f\"\"\"\n",
    "    SELECT customer_id, COUNT(rental_id) AS rentals\n",
    "    FROM rental\n",
    "    WHERE MONTH(rental_date) = {month} AND YEAR(rental_date) = {year}\n",
    "    GROUP BY customer_id;\n",
    "    \"\"\"\n",
    "    return pd.read_sql(query, engine)\n"
   ]
  },
  {
   "cell_type": "code",
   "execution_count": 40,
   "metadata": {},
   "outputs": [],
   "source": [
    "def rental_count_month(rentals_df, month, year):\n",
    "    column_name = f\"rentals_{month:02d}_{year}\"\n",
    "    grouped_df = rentals_df.groupby('customer_id').sum().reset_index()\n",
    "    grouped_df.rename(columns={'rentals': column_name}, inplace=True)\n",
    "    return grouped_df"
   ]
  },
  {
   "cell_type": "code",
   "execution_count": 41,
   "metadata": {},
   "outputs": [],
   "source": [
    "def compare_rentals(df1, df2):\n",
    "    combined_df = pd.merge(df1, df2, on='customer_id', how='outer').fillna(0)\n",
    "    rental_columns = [col for col in combined_df.columns if col.startswith('rentals')]\n",
    "    combined_df['difference'] = combined_df[rental_columns[0]] - combined_df[rental_columns[1]]\n",
    "    return combined_df"
   ]
  },
  {
   "cell_type": "code",
   "execution_count": null,
   "metadata": {},
   "outputs": [],
   "source": [
    "# Conecto con la base de datos Sakila\n",
    "engine = connect_to_sakila('root', 'password', 'localhost', 'sakila')\n",
    "\n",
    "# Recupero datos para mayo y junio de 2005\n",
    "may_rentals = rentals_month(engine, 5, 2005)\n",
    "june_rentals = rentals_month(engine, 6, 2005)"
   ]
  },
  {
   "cell_type": "code",
   "execution_count": null,
   "metadata": {},
   "outputs": [],
   "source": [
    "may_counts = rental_count_month(may_rentals, 5, 2005)\n",
    "june_counts = rental_count_month(june_rentals, 6, 2005)"
   ]
  },
  {
   "cell_type": "code",
   "execution_count": null,
   "metadata": {},
   "outputs": [],
   "source": [
    "comparison = compare_rentals(may_counts, june_counts)"
   ]
  }
 ],
 "metadata": {
  "kernelspec": {
   "display_name": "Python 3",
   "language": "python",
   "name": "python3"
  },
  "language_info": {
   "codemirror_mode": {
    "name": "ipython",
    "version": 3
   },
   "file_extension": ".py",
   "mimetype": "text/x-python",
   "name": "python",
   "nbconvert_exporter": "python",
   "pygments_lexer": "ipython3",
   "version": "3.8.2"
  }
 },
 "nbformat": 4,
 "nbformat_minor": 2
}
